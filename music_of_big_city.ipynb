{
 "cells": [
  {
   "cell_type": "markdown",
   "metadata": {
    "toc": true
   },
   "source": [
    "<h1>Содержание<span class=\"tocSkip\"></span></h1>\n",
    "<div class=\"toc\"><ul class=\"toc-item\"><li><span><a href=\"#Шаг-1.-Откройте-файл-с-данными-и-изучите-общую-информацию\" data-toc-modified-id=\"Шаг-1.-Откройте-файл-с-данными-и-изучите-общую-информацию-1\"><span class=\"toc-item-num\">1&nbsp;&nbsp;</span>Шаг 1. Откройте файл с данными и изучите общую информацию</a></span></li><li><span><a href=\"#Шаг-2.-Предобработка-данных\" data-toc-modified-id=\"Шаг-2.-Предобработка-данных-2\"><span class=\"toc-item-num\">2&nbsp;&nbsp;</span>Шаг 2. Предобработка данных</a></span><ul class=\"toc-item\"><li><span><a href=\"#Обработка-пропусков\" data-toc-modified-id=\"Обработка-пропусков-2.1\"><span class=\"toc-item-num\">2.1&nbsp;&nbsp;</span>Обработка пропусков</a></span></li><li><span><a href=\"#Замена-типа-данных\" data-toc-modified-id=\"Замена-типа-данных-2.2\"><span class=\"toc-item-num\">2.2&nbsp;&nbsp;</span>Замена типа данных</a></span></li><li><span><a href=\"#Обработка-дубликатов\" data-toc-modified-id=\"Обработка-дубликатов-2.3\"><span class=\"toc-item-num\">2.3&nbsp;&nbsp;</span>Обработка дубликатов</a></span></li><li><span><a href=\"#Лемматизация\" data-toc-modified-id=\"Лемматизация-2.4\"><span class=\"toc-item-num\">2.4&nbsp;&nbsp;</span>Лемматизация</a></span></li><li><span><a href=\"#Категоризация-данных\" data-toc-modified-id=\"Категоризация-данных-2.5\"><span class=\"toc-item-num\">2.5&nbsp;&nbsp;</span>Категоризация данных</a></span></li></ul></li><li><span><a href=\"#Шаг-3.-Ответьте-на-вопросы\" data-toc-modified-id=\"Шаг-3.-Ответьте-на-вопросы-3\"><span class=\"toc-item-num\">3&nbsp;&nbsp;</span>Шаг 3. Ответьте на вопросы</a></span></li><li><span><a href=\"#Шаг-4.-Общий-вывод\" data-toc-modified-id=\"Шаг-4.-Общий-вывод-4\"><span class=\"toc-item-num\">4&nbsp;&nbsp;</span>Шаг 4. Общий вывод</a></span></li><li><span><a href=\"#Чек-лист-готовности-проекта\" data-toc-modified-id=\"Чек-лист-готовности-проекта-5\"><span class=\"toc-item-num\">5&nbsp;&nbsp;</span>Чек-лист готовности проекта</a></span></li></ul></div>"
   ]
  },
  {
   "cell_type": "markdown",
   "metadata": {},
   "source": [
    "# Исследование надёжности заёмщиков\n",
    "\n",
    "Заказчик — кредитный отдел банка. Нужно разобраться, влияет ли семейное положение и количество детей клиента на факт погашения кредита в срок. Входные данные от банка — статистика о платёжеспособности клиентов.\n",
    "\n",
    "Результаты исследования будут учтены при построении модели **кредитного скоринга** — специальной системы, которая оценивает способность потенциального заёмщика вернуть кредит банку."
   ]
  },
  {
   "cell_type": "markdown",
   "metadata": {},
   "source": [
    "<div class=\"alert alert-block alert-warning\">\n",
    "<b>Remarks:</b> \n",
    "\n",
    "Отлично, что у проекта есть введение. Однако стоит задуматься, как еще его можно дополнить, чтобы сделать более ценным для читателя. В студенческом ноушене (если нет доступа, спроси куратора) есть статья о том, как мы оформляем работы. \n",
    "    \n",
    "Также советую тебе взглянуть на <a href=\"https://www.kaggle.com/notebooks/\">работы</a> профессиональных аналитиков, чтобы оценить, как другие люди оформляют и проводят исследования. </div>\n"
   ]
  },
  {
   "cell_type": "code",
   "execution_count": null,
   "metadata": {},
   "outputs": [],
   "source": []
  },
  {
   "cell_type": "code",
   "execution_count": null,
   "metadata": {},
   "outputs": [],
   "source": []
  },
  {
   "cell_type": "markdown",
   "metadata": {},
   "source": [
    "## Шаг 1. Откройте файл с данными и изучите общую информацию"
   ]
  },
  {
   "cell_type": "code",
   "execution_count": 23,
   "metadata": {
    "scrolled": false
   },
   "outputs": [
    {
     "name": "stdout",
     "output_type": "stream",
     "text": [
      "<class 'pandas.core.frame.DataFrame'>\n",
      "RangeIndex: 21525 entries, 0 to 21524\n",
      "Data columns (total 12 columns):\n",
      "children            21525 non-null int64\n",
      "days_employed       19351 non-null float64\n",
      "age                 21525 non-null int64\n",
      "education           21525 non-null object\n",
      "education_id        21525 non-null int64\n",
      "family_status       21525 non-null object\n",
      "family_status_id    21525 non-null int64\n",
      "gender              21525 non-null object\n",
      "income_type         21525 non-null object\n",
      "debt                21525 non-null int64\n",
      "total_income        19351 non-null float64\n",
      "purpose             21525 non-null object\n",
      "dtypes: float64(2), int64(5), object(5)\n",
      "memory usage: 2.0+ MB\n"
     ]
    },
    {
     "data": {
      "text/plain": [
       "children               0\n",
       "days_employed       2174\n",
       "age                    0\n",
       "education              0\n",
       "education_id           0\n",
       "family_status          0\n",
       "family_status_id       0\n",
       "gender                 0\n",
       "income_type            0\n",
       "debt                   0\n",
       "total_income        2174\n",
       "purpose                0\n",
       "dtype: int64"
      ]
     },
     "execution_count": 23,
     "metadata": {},
     "output_type": "execute_result"
    }
   ],
   "source": [
    "import pandas as pd \n",
    "import seaborn as sns\n",
    "\n",
    "data = pd.read_csv('/datasets/data.csv')\n",
    "data.set_axis(['children',\n",
    "               'days_employed',\n",
    "               'age',\n",
    "               'education',\n",
    "               'education_id',\n",
    "               'family_status',\n",
    "               'family_status_id',\n",
    "               'gender',\n",
    "               'income_type',\n",
    "               'debt',\n",
    "               'total_income',\n",
    "               'purpose'],\n",
    "              axis='columns',inplace=True)# переименование столбца в age\n",
    "data['education'] = data['education'].str.lower()# использование нижнего регистра в столбце с образованием\n",
    "data.info()# получение инормации о таблице и используемых типах данных\n",
    "data.isna().sum()# получение информации о количестве и месторахождении пропусков\n",
    "#print (data.head(15))# первые 15 строк таблицы\n",
    "#print (data.tail(10)) # последние 10 строк таблицы"
   ]
  },
  {
   "cell_type": "markdown",
   "metadata": {},
   "source": [
    "<div class=\"alert alert-block alert-warning\">\n",
    "<b>Remarks:</b> \n",
    "   \n",
    "- лучше собирать все импорты, настройки и ключевые константы в начале проекта - так в нем будет гораздо проще ориентироваться ✔\n",
    "- стоит отделять импорты от открытия датасета. Это делается для того, чтобы иметь возмонжность в любой момент дописать нвоые библиотеки, перезапустить ячейку с импортами и продолжить работу, не перетирая датасет. ✔\n",
    "- функция `describe()` может быть очень полезна при знакомстве с датасетом, советую её тут использовать. Советую почитать про её аргументы - пригодится в следующих проектах, а также рекомендую рассматривать её в транспонированном виде - в больших датасетах будет гораздо удобнее - `df.describe().T` "
   ]
  },
  {
   "cell_type": "markdown",
   "metadata": {},
   "source": [
    "**Вывод**"
   ]
  },
  {
   "cell_type": "markdown",
   "metadata": {},
   "source": [
    "В таблице данных обнаружены следующие элементы: пропуски, верхний регистр, отрицательные значения, дубликаты"
   ]
  },
  {
   "cell_type": "markdown",
   "metadata": {},
   "source": [
    "## Шаг 2. Предобработка данных"
   ]
  },
  {
   "cell_type": "markdown",
   "metadata": {},
   "source": [
    "### Обработка пропусков"
   ]
  },
  {
   "cell_type": "code",
   "execution_count": 25,
   "metadata": {},
   "outputs": [
    {
     "data": {
      "text/html": [
       "<div>\n",
       "<style scoped>\n",
       "    .dataframe tbody tr th:only-of-type {\n",
       "        vertical-align: middle;\n",
       "    }\n",
       "\n",
       "    .dataframe tbody tr th {\n",
       "        vertical-align: top;\n",
       "    }\n",
       "\n",
       "    .dataframe thead th {\n",
       "        text-align: right;\n",
       "    }\n",
       "</style>\n",
       "<table border=\"1\" class=\"dataframe\">\n",
       "  <thead>\n",
       "    <tr style=\"text-align: right;\">\n",
       "      <th></th>\n",
       "      <th>children</th>\n",
       "      <th>days_employed</th>\n",
       "      <th>age</th>\n",
       "      <th>education</th>\n",
       "      <th>education_id</th>\n",
       "      <th>family_status</th>\n",
       "      <th>family_status_id</th>\n",
       "      <th>gender</th>\n",
       "      <th>income_type</th>\n",
       "      <th>debt</th>\n",
       "      <th>total_income</th>\n",
       "      <th>purpose</th>\n",
       "    </tr>\n",
       "  </thead>\n",
       "  <tbody>\n",
       "    <tr>\n",
       "      <td>0</td>\n",
       "      <td>1</td>\n",
       "      <td>8437.673028</td>\n",
       "      <td>42</td>\n",
       "      <td>высшее</td>\n",
       "      <td>0</td>\n",
       "      <td>женат / замужем</td>\n",
       "      <td>0</td>\n",
       "      <td>F</td>\n",
       "      <td>сотрудник</td>\n",
       "      <td>0</td>\n",
       "      <td>253875.639453</td>\n",
       "      <td>покупка жилья</td>\n",
       "    </tr>\n",
       "    <tr>\n",
       "      <td>1</td>\n",
       "      <td>1</td>\n",
       "      <td>4024.803754</td>\n",
       "      <td>36</td>\n",
       "      <td>среднее</td>\n",
       "      <td>1</td>\n",
       "      <td>женат / замужем</td>\n",
       "      <td>0</td>\n",
       "      <td>F</td>\n",
       "      <td>сотрудник</td>\n",
       "      <td>0</td>\n",
       "      <td>112080.014102</td>\n",
       "      <td>приобретение автомобиля</td>\n",
       "    </tr>\n",
       "    <tr>\n",
       "      <td>2</td>\n",
       "      <td>0</td>\n",
       "      <td>5623.422610</td>\n",
       "      <td>33</td>\n",
       "      <td>среднее</td>\n",
       "      <td>1</td>\n",
       "      <td>женат / замужем</td>\n",
       "      <td>0</td>\n",
       "      <td>M</td>\n",
       "      <td>сотрудник</td>\n",
       "      <td>0</td>\n",
       "      <td>145885.952297</td>\n",
       "      <td>покупка жилья</td>\n",
       "    </tr>\n",
       "    <tr>\n",
       "      <td>3</td>\n",
       "      <td>3</td>\n",
       "      <td>4124.747207</td>\n",
       "      <td>32</td>\n",
       "      <td>среднее</td>\n",
       "      <td>1</td>\n",
       "      <td>женат / замужем</td>\n",
       "      <td>0</td>\n",
       "      <td>M</td>\n",
       "      <td>сотрудник</td>\n",
       "      <td>0</td>\n",
       "      <td>267628.550329</td>\n",
       "      <td>дополнительное образование</td>\n",
       "    </tr>\n",
       "    <tr>\n",
       "      <td>4</td>\n",
       "      <td>0</td>\n",
       "      <td>340266.072047</td>\n",
       "      <td>53</td>\n",
       "      <td>среднее</td>\n",
       "      <td>1</td>\n",
       "      <td>гражданский брак</td>\n",
       "      <td>1</td>\n",
       "      <td>F</td>\n",
       "      <td>пенсионер</td>\n",
       "      <td>0</td>\n",
       "      <td>158616.077870</td>\n",
       "      <td>сыграть свадьбу</td>\n",
       "    </tr>\n",
       "    <tr>\n",
       "      <td>5</td>\n",
       "      <td>0</td>\n",
       "      <td>926.185831</td>\n",
       "      <td>27</td>\n",
       "      <td>высшее</td>\n",
       "      <td>0</td>\n",
       "      <td>гражданский брак</td>\n",
       "      <td>1</td>\n",
       "      <td>M</td>\n",
       "      <td>компаньон</td>\n",
       "      <td>0</td>\n",
       "      <td>255763.565419</td>\n",
       "      <td>покупка жилья</td>\n",
       "    </tr>\n",
       "    <tr>\n",
       "      <td>6</td>\n",
       "      <td>0</td>\n",
       "      <td>2879.202052</td>\n",
       "      <td>43</td>\n",
       "      <td>высшее</td>\n",
       "      <td>0</td>\n",
       "      <td>женат / замужем</td>\n",
       "      <td>0</td>\n",
       "      <td>F</td>\n",
       "      <td>компаньон</td>\n",
       "      <td>0</td>\n",
       "      <td>240525.971920</td>\n",
       "      <td>операции с жильем</td>\n",
       "    </tr>\n",
       "    <tr>\n",
       "      <td>7</td>\n",
       "      <td>0</td>\n",
       "      <td>152.779569</td>\n",
       "      <td>50</td>\n",
       "      <td>среднее</td>\n",
       "      <td>1</td>\n",
       "      <td>женат / замужем</td>\n",
       "      <td>0</td>\n",
       "      <td>M</td>\n",
       "      <td>сотрудник</td>\n",
       "      <td>0</td>\n",
       "      <td>135823.934197</td>\n",
       "      <td>образование</td>\n",
       "    </tr>\n",
       "    <tr>\n",
       "      <td>8</td>\n",
       "      <td>2</td>\n",
       "      <td>6929.865299</td>\n",
       "      <td>35</td>\n",
       "      <td>высшее</td>\n",
       "      <td>0</td>\n",
       "      <td>гражданский брак</td>\n",
       "      <td>1</td>\n",
       "      <td>F</td>\n",
       "      <td>сотрудник</td>\n",
       "      <td>0</td>\n",
       "      <td>95856.832424</td>\n",
       "      <td>на проведение свадьбы</td>\n",
       "    </tr>\n",
       "    <tr>\n",
       "      <td>9</td>\n",
       "      <td>0</td>\n",
       "      <td>2188.756445</td>\n",
       "      <td>41</td>\n",
       "      <td>среднее</td>\n",
       "      <td>1</td>\n",
       "      <td>женат / замужем</td>\n",
       "      <td>0</td>\n",
       "      <td>M</td>\n",
       "      <td>сотрудник</td>\n",
       "      <td>0</td>\n",
       "      <td>144425.938277</td>\n",
       "      <td>покупка жилья для семьи</td>\n",
       "    </tr>\n",
       "    <tr>\n",
       "      <td>10</td>\n",
       "      <td>2</td>\n",
       "      <td>4171.483647</td>\n",
       "      <td>36</td>\n",
       "      <td>высшее</td>\n",
       "      <td>0</td>\n",
       "      <td>женат / замужем</td>\n",
       "      <td>0</td>\n",
       "      <td>M</td>\n",
       "      <td>компаньон</td>\n",
       "      <td>0</td>\n",
       "      <td>113943.491460</td>\n",
       "      <td>покупка недвижимости</td>\n",
       "    </tr>\n",
       "    <tr>\n",
       "      <td>11</td>\n",
       "      <td>0</td>\n",
       "      <td>792.701887</td>\n",
       "      <td>40</td>\n",
       "      <td>среднее</td>\n",
       "      <td>1</td>\n",
       "      <td>женат / замужем</td>\n",
       "      <td>0</td>\n",
       "      <td>F</td>\n",
       "      <td>сотрудник</td>\n",
       "      <td>0</td>\n",
       "      <td>77069.234271</td>\n",
       "      <td>покупка коммерческой недвижимости</td>\n",
       "    </tr>\n",
       "    <tr>\n",
       "      <td>12</td>\n",
       "      <td>0</td>\n",
       "      <td>63046.497661</td>\n",
       "      <td>65</td>\n",
       "      <td>среднее</td>\n",
       "      <td>1</td>\n",
       "      <td>гражданский брак</td>\n",
       "      <td>1</td>\n",
       "      <td>M</td>\n",
       "      <td>пенсионер</td>\n",
       "      <td>0</td>\n",
       "      <td>167422.302208</td>\n",
       "      <td>сыграть свадьбу</td>\n",
       "    </tr>\n",
       "    <tr>\n",
       "      <td>13</td>\n",
       "      <td>0</td>\n",
       "      <td>1846.641941</td>\n",
       "      <td>54</td>\n",
       "      <td>неоконченное высшее</td>\n",
       "      <td>2</td>\n",
       "      <td>женат / замужем</td>\n",
       "      <td>0</td>\n",
       "      <td>F</td>\n",
       "      <td>сотрудник</td>\n",
       "      <td>0</td>\n",
       "      <td>130458.228857</td>\n",
       "      <td>приобретение автомобиля</td>\n",
       "    </tr>\n",
       "    <tr>\n",
       "      <td>14</td>\n",
       "      <td>0</td>\n",
       "      <td>1844.956182</td>\n",
       "      <td>56</td>\n",
       "      <td>высшее</td>\n",
       "      <td>0</td>\n",
       "      <td>гражданский брак</td>\n",
       "      <td>1</td>\n",
       "      <td>F</td>\n",
       "      <td>компаньон</td>\n",
       "      <td>1</td>\n",
       "      <td>165127.911772</td>\n",
       "      <td>покупка жилой недвижимости</td>\n",
       "    </tr>\n",
       "  </tbody>\n",
       "</table>\n",
       "</div>"
      ],
      "text/plain": [
       "    children  days_employed  age            education  education_id  \\\n",
       "0          1    8437.673028   42               высшее             0   \n",
       "1          1    4024.803754   36              среднее             1   \n",
       "2          0    5623.422610   33              среднее             1   \n",
       "3          3    4124.747207   32              среднее             1   \n",
       "4          0  340266.072047   53              среднее             1   \n",
       "5          0     926.185831   27               высшее             0   \n",
       "6          0    2879.202052   43               высшее             0   \n",
       "7          0     152.779569   50              среднее             1   \n",
       "8          2    6929.865299   35               высшее             0   \n",
       "9          0    2188.756445   41              среднее             1   \n",
       "10         2    4171.483647   36               высшее             0   \n",
       "11         0     792.701887   40              среднее             1   \n",
       "12         0   63046.497661   65              среднее             1   \n",
       "13         0    1846.641941   54  неоконченное высшее             2   \n",
       "14         0    1844.956182   56               высшее             0   \n",
       "\n",
       "       family_status  family_status_id gender income_type  debt  \\\n",
       "0    женат / замужем                 0      F   сотрудник     0   \n",
       "1    женат / замужем                 0      F   сотрудник     0   \n",
       "2    женат / замужем                 0      M   сотрудник     0   \n",
       "3    женат / замужем                 0      M   сотрудник     0   \n",
       "4   гражданский брак                 1      F   пенсионер     0   \n",
       "5   гражданский брак                 1      M   компаньон     0   \n",
       "6    женат / замужем                 0      F   компаньон     0   \n",
       "7    женат / замужем                 0      M   сотрудник     0   \n",
       "8   гражданский брак                 1      F   сотрудник     0   \n",
       "9    женат / замужем                 0      M   сотрудник     0   \n",
       "10   женат / замужем                 0      M   компаньон     0   \n",
       "11   женат / замужем                 0      F   сотрудник     0   \n",
       "12  гражданский брак                 1      M   пенсионер     0   \n",
       "13   женат / замужем                 0      F   сотрудник     0   \n",
       "14  гражданский брак                 1      F   компаньон     1   \n",
       "\n",
       "     total_income                            purpose  \n",
       "0   253875.639453                      покупка жилья  \n",
       "1   112080.014102            приобретение автомобиля  \n",
       "2   145885.952297                      покупка жилья  \n",
       "3   267628.550329         дополнительное образование  \n",
       "4   158616.077870                    сыграть свадьбу  \n",
       "5   255763.565419                      покупка жилья  \n",
       "6   240525.971920                  операции с жильем  \n",
       "7   135823.934197                        образование  \n",
       "8    95856.832424              на проведение свадьбы  \n",
       "9   144425.938277            покупка жилья для семьи  \n",
       "10  113943.491460               покупка недвижимости  \n",
       "11   77069.234271  покупка коммерческой недвижимости  \n",
       "12  167422.302208                    сыграть свадьбу  \n",
       "13  130458.228857            приобретение автомобиля  \n",
       "14  165127.911772         покупка жилой недвижимости  "
      ]
     },
     "metadata": {},
     "output_type": "display_data"
    }
   ],
   "source": [
    "total_income_avg = data['total_income'].mean() #total_income - это пропуск количественных переменных,заполним средним арифметическим\n",
    "data['total_income'] = data['total_income'].fillna (value = total_income_avg)\n",
    "days_employed_avg = data['days_employed'].mean() #days_employed - это пропуск количественных переменных,заполним средним арифметическим\n",
    "data['days_employed'] = data['days_employed'].fillna (value = days_employed_avg)#days_employed - это пропуск количественных переменных,заполним средним арифметическим\n",
    "data['days_employed'] = data['days_employed'].abs()#сделаем значения положительными\n",
    "data['children'] = data['children'].abs()\n",
    "data.isna().sum()\n",
    "display (data.head(15))\n"
   ]
  },
  {
   "cell_type": "markdown",
   "metadata": {},
   "source": [
    "<div class=\"alert alert-block alert-warning\">\n",
    "<b>Remarks:</b> \n",
    "   \n",
    "- старайся комментарии к исследованию всегда писать в маркдаун-ячейках, # обычно используется для технических пояснений к нетривиальным участкам кода\n",
    "- при выводе в аутпут табличных данных лучше воспользоваться методом `display()` вместо `print()`"
   ]
  },
  {
   "cell_type": "markdown",
   "metadata": {},
   "source": [
    "**Вывод**"
   ]
  },
  {
   "cell_type": "markdown",
   "metadata": {},
   "source": [
    "Пропуски составляют 10% от общего числа данных - это довольно много. Удалять нельзя\n",
    "Есть корреляция в возникновении пропусков: равное количество респондентов не дали данных о своем доходе и соответственно днях работы. \n",
    "Возможно у них не было этого вопроса в анкете, возможно они скрывают свои доходы и соотвественно дни работы, которые считаются системой автоматически. \n",
    "Чаще всего у респондентов среднее образование\n",
    "В данной ситуации больше подойдет метод стохастической линейной регрессии для заполнения пропусков\n",
    "Пока его не прошли в курсе -- будем использовать заполенение средним арифметическим. "
   ]
  },
  {
   "cell_type": "markdown",
   "metadata": {},
   "source": [
    "### Замена типа данных"
   ]
  },
  {
   "cell_type": "code",
   "execution_count": null,
   "metadata": {},
   "outputs": [],
   "source": []
  },
  {
   "cell_type": "code",
   "execution_count": 27,
   "metadata": {},
   "outputs": [
    {
     "name": "stdout",
     "output_type": "stream",
     "text": [
      "5621\n",
      "0         8437\n",
      "1         4024\n",
      "2         5623\n",
      "3         4124\n",
      "4        17155\n",
      "         ...  \n",
      "21520     4529\n",
      "21521    17155\n",
      "21522     2113\n",
      "21523     3112\n",
      "21524     1984\n",
      "Name: days_employed, Length: 21525, dtype: int64\n"
     ]
    }
   ],
   "source": [
    "data['gender'] = data['gender'].replace('XNA', 'F')#заменили значение XNA нв F\n",
    "data['children'] = data['children'].replace(20, 2)# убрали анамальное значение 20 детей. Скорее всего там лишний ноль\n",
    "data['purpose'] = data['purpose'].replace('ремонт жилью','ремонт жилья')\n",
    "data['days_employed'] = data['days_employed'].astype('int')# заменили float на int для минимизации места\n",
    "data['total_income'] = data['total_income'].astype('int')\n",
    "#data ['days_employed'] = data ['days_employed']/365# аномальные значения. больше 930 лет стажа (ого!)\n",
    "print (data[data['days_employed'] >= 47*365] ['days_employed'].count())#5621 значение больше 47 (65 пенсионный возраст - 18) лет рабочего стажа. это аномальные значения, заменим их\n",
    "data.loc[data['days_employed'] > 17155, 'days_employed'] = 17155 #заменили все аномальные занчения на максимум\n",
    "print (data['days_employed'])\n",
    "#data.info()\n",
    "#print (data['income_type'].unique())\n",
    "#print (data['age'].unique())\n",
    "#print (data['gender'].unique())\n",
    "#print (data['children'].unique())\n",
    "#print (data)\n"
   ]
  },
  {
   "cell_type": "markdown",
   "metadata": {},
   "source": [
    "<div class=\"alert alert-block alert-warning\">\n",
    "<b>Remarks:</b> \n",
    "    \n",
    "Потенциал для эффективного изменения типов тут очень широк.\n",
    "    \n",
    "Давай я дам тебе две классные статьи, а ты попробуешь изменить типы данных на еще более подходящие и замеришь, сколько памяти в % ты сэкономишь:\n",
    "    \n",
    "https://pyprog.pro/data_types.html\n",
    "    \n",
    "https://habr.com/ru/company/ruvds/blog/442516/\n",
    "    \n",
    "Также обрати внимание на пары столбцов `education - education_id` и `family_status - family_status_id`"
   ]
  },
  {
   "cell_type": "markdown",
   "metadata": {},
   "source": [
    "**Вывод**"
   ]
  },
  {
   "cell_type": "markdown",
   "metadata": {},
   "source": [
    "Подготовка данных для работы: очищние данных и изменение типа на целочисленные значения для упрощения расчетов и экономии места в памяти, очищение ошибки в данных о днях работы (замена аномальных на максимальное значение 17155 дней)\n",
    "Также заменили значение XNA нв F в колонке \"пол\" ,т.к. гипотеза строилась вне зависимоти от пола, то можно сюда поставить любой пол. Также можно было просто удалить эту строку, т.к. она всего одна во всей таблице и на результат не сильно повлияет. "
   ]
  },
  {
   "cell_type": "markdown",
   "metadata": {},
   "source": [
    "### Обработка дубликатов"
   ]
  },
  {
   "cell_type": "code",
   "execution_count": 32,
   "metadata": {},
   "outputs": [
    {
     "data": {
      "text/html": [
       "<div>\n",
       "<style scoped>\n",
       "    .dataframe tbody tr th:only-of-type {\n",
       "        vertical-align: middle;\n",
       "    }\n",
       "\n",
       "    .dataframe tbody tr th {\n",
       "        vertical-align: top;\n",
       "    }\n",
       "\n",
       "    .dataframe thead th {\n",
       "        text-align: right;\n",
       "    }\n",
       "</style>\n",
       "<table border=\"1\" class=\"dataframe\">\n",
       "  <thead>\n",
       "    <tr style=\"text-align: right;\">\n",
       "      <th></th>\n",
       "      <th>children</th>\n",
       "      <th>days_employed</th>\n",
       "      <th>age</th>\n",
       "      <th>education</th>\n",
       "      <th>education_id</th>\n",
       "      <th>family_status</th>\n",
       "      <th>family_status_id</th>\n",
       "      <th>gender</th>\n",
       "      <th>income_type</th>\n",
       "      <th>debt</th>\n",
       "      <th>total_income</th>\n",
       "      <th>purpose</th>\n",
       "    </tr>\n",
       "  </thead>\n",
       "  <tbody>\n",
       "    <tr>\n",
       "      <td>120</td>\n",
       "      <td>0</td>\n",
       "      <td>17155</td>\n",
       "      <td>46</td>\n",
       "      <td>среднее</td>\n",
       "      <td>1</td>\n",
       "      <td>женат / замужем</td>\n",
       "      <td>0</td>\n",
       "      <td>F</td>\n",
       "      <td>сотрудник</td>\n",
       "      <td>0</td>\n",
       "      <td>167422</td>\n",
       "      <td>высшее образование</td>\n",
       "    </tr>\n",
       "    <tr>\n",
       "      <td>520</td>\n",
       "      <td>0</td>\n",
       "      <td>17155</td>\n",
       "      <td>35</td>\n",
       "      <td>среднее</td>\n",
       "      <td>1</td>\n",
       "      <td>гражданский брак</td>\n",
       "      <td>1</td>\n",
       "      <td>F</td>\n",
       "      <td>сотрудник</td>\n",
       "      <td>0</td>\n",
       "      <td>167422</td>\n",
       "      <td>сыграть свадьбу</td>\n",
       "    </tr>\n",
       "    <tr>\n",
       "      <td>541</td>\n",
       "      <td>0</td>\n",
       "      <td>17155</td>\n",
       "      <td>57</td>\n",
       "      <td>среднее</td>\n",
       "      <td>1</td>\n",
       "      <td>женат / замужем</td>\n",
       "      <td>0</td>\n",
       "      <td>F</td>\n",
       "      <td>сотрудник</td>\n",
       "      <td>0</td>\n",
       "      <td>167422</td>\n",
       "      <td>сделка с подержанным автомобилем</td>\n",
       "    </tr>\n",
       "    <tr>\n",
       "      <td>554</td>\n",
       "      <td>0</td>\n",
       "      <td>17155</td>\n",
       "      <td>60</td>\n",
       "      <td>среднее</td>\n",
       "      <td>1</td>\n",
       "      <td>женат / замужем</td>\n",
       "      <td>0</td>\n",
       "      <td>M</td>\n",
       "      <td>сотрудник</td>\n",
       "      <td>0</td>\n",
       "      <td>167422</td>\n",
       "      <td>покупка недвижимости</td>\n",
       "    </tr>\n",
       "    <tr>\n",
       "      <td>680</td>\n",
       "      <td>1</td>\n",
       "      <td>17155</td>\n",
       "      <td>30</td>\n",
       "      <td>высшее</td>\n",
       "      <td>0</td>\n",
       "      <td>женат / замужем</td>\n",
       "      <td>0</td>\n",
       "      <td>F</td>\n",
       "      <td>госслужащий</td>\n",
       "      <td>0</td>\n",
       "      <td>167422</td>\n",
       "      <td>покупка жилья для семьи</td>\n",
       "    </tr>\n",
       "    <tr>\n",
       "      <td>1005</td>\n",
       "      <td>0</td>\n",
       "      <td>17155</td>\n",
       "      <td>62</td>\n",
       "      <td>среднее</td>\n",
       "      <td>1</td>\n",
       "      <td>женат / замужем</td>\n",
       "      <td>0</td>\n",
       "      <td>F</td>\n",
       "      <td>пенсионер</td>\n",
       "      <td>0</td>\n",
       "      <td>167422</td>\n",
       "      <td>ремонт жилья</td>\n",
       "    </tr>\n",
       "    <tr>\n",
       "      <td>1191</td>\n",
       "      <td>0</td>\n",
       "      <td>17155</td>\n",
       "      <td>61</td>\n",
       "      <td>среднее</td>\n",
       "      <td>1</td>\n",
       "      <td>женат / замужем</td>\n",
       "      <td>0</td>\n",
       "      <td>F</td>\n",
       "      <td>пенсионер</td>\n",
       "      <td>0</td>\n",
       "      <td>167422</td>\n",
       "      <td>операции с недвижимостью</td>\n",
       "    </tr>\n",
       "    <tr>\n",
       "      <td>1431</td>\n",
       "      <td>0</td>\n",
       "      <td>17155</td>\n",
       "      <td>41</td>\n",
       "      <td>среднее</td>\n",
       "      <td>1</td>\n",
       "      <td>женат / замужем</td>\n",
       "      <td>0</td>\n",
       "      <td>F</td>\n",
       "      <td>сотрудник</td>\n",
       "      <td>0</td>\n",
       "      <td>167422</td>\n",
       "      <td>покупка жилья для семьи</td>\n",
       "    </tr>\n",
       "    <tr>\n",
       "      <td>1511</td>\n",
       "      <td>0</td>\n",
       "      <td>17155</td>\n",
       "      <td>58</td>\n",
       "      <td>высшее</td>\n",
       "      <td>0</td>\n",
       "      <td>Не женат / не замужем</td>\n",
       "      <td>4</td>\n",
       "      <td>F</td>\n",
       "      <td>пенсионер</td>\n",
       "      <td>0</td>\n",
       "      <td>167422</td>\n",
       "      <td>дополнительное образование</td>\n",
       "    </tr>\n",
       "    <tr>\n",
       "      <td>1681</td>\n",
       "      <td>0</td>\n",
       "      <td>17155</td>\n",
       "      <td>57</td>\n",
       "      <td>среднее</td>\n",
       "      <td>1</td>\n",
       "      <td>гражданский брак</td>\n",
       "      <td>1</td>\n",
       "      <td>F</td>\n",
       "      <td>пенсионер</td>\n",
       "      <td>0</td>\n",
       "      <td>167422</td>\n",
       "      <td>на проведение свадьбы</td>\n",
       "    </tr>\n",
       "  </tbody>\n",
       "</table>\n",
       "</div>"
      ],
      "text/plain": [
       "      children  days_employed  age education  education_id  \\\n",
       "120          0          17155   46   среднее             1   \n",
       "520          0          17155   35   среднее             1   \n",
       "541          0          17155   57   среднее             1   \n",
       "554          0          17155   60   среднее             1   \n",
       "680          1          17155   30    высшее             0   \n",
       "1005         0          17155   62   среднее             1   \n",
       "1191         0          17155   61   среднее             1   \n",
       "1431         0          17155   41   среднее             1   \n",
       "1511         0          17155   58    высшее             0   \n",
       "1681         0          17155   57   среднее             1   \n",
       "\n",
       "              family_status  family_status_id gender  income_type  debt  \\\n",
       "120         женат / замужем                 0      F    сотрудник     0   \n",
       "520        гражданский брак                 1      F    сотрудник     0   \n",
       "541         женат / замужем                 0      F    сотрудник     0   \n",
       "554         женат / замужем                 0      M    сотрудник     0   \n",
       "680         женат / замужем                 0      F  госслужащий     0   \n",
       "1005        женат / замужем                 0      F    пенсионер     0   \n",
       "1191        женат / замужем                 0      F    пенсионер     0   \n",
       "1431        женат / замужем                 0      F    сотрудник     0   \n",
       "1511  Не женат / не замужем                 4      F    пенсионер     0   \n",
       "1681       гражданский брак                 1      F    пенсионер     0   \n",
       "\n",
       "      total_income                           purpose  \n",
       "120         167422                высшее образование  \n",
       "520         167422                   сыграть свадьбу  \n",
       "541         167422  сделка с подержанным автомобилем  \n",
       "554         167422              покупка недвижимости  \n",
       "680         167422           покупка жилья для семьи  \n",
       "1005        167422                      ремонт жилья  \n",
       "1191        167422          операции с недвижимостью  \n",
       "1431        167422           покупка жилья для семьи  \n",
       "1511        167422        дополнительное образование  \n",
       "1681        167422             на проведение свадьбы  "
      ]
     },
     "metadata": {},
     "output_type": "display_data"
    },
    {
     "name": "stdout",
     "output_type": "stream",
     "text": [
      "71\n",
      "167422    2174\n",
      "244123       3\n",
      "98974        3\n",
      "150684       3\n",
      "154199       3\n",
      "          ... \n",
      "109583       1\n",
      "101387       1\n",
      "138249       1\n",
      "280240       1\n",
      "264193       1\n",
      "Name: total_income, Length: 18607, dtype: int64\n"
     ]
    }
   ],
   "source": [
    "display (data[data.duplicated(keep=False)].head(10))\n",
    "print (data.duplicated().sum())\n",
    "print (data['total_income'].value_counts()) #проверили дубликаты по доходу"
   ]
  },
  {
   "cell_type": "markdown",
   "metadata": {},
   "source": [
    "**Вывод**"
   ]
  },
  {
   "cell_type": "markdown",
   "metadata": {},
   "source": [
    "Во всей таблице 71 дубликат. Это значение менее одного процента и связано с заменами, производимыми выше. \n",
    "То есть мы заменили все дни работы на максимальное - 17155 и total_income на среднее арифметическое 167422. Оставим дубликаты без изменений, они не сильно повлияют на решение проекта "
   ]
  },
  {
   "cell_type": "markdown",
   "metadata": {},
   "source": [
    "### Лемматизация"
   ]
  },
  {
   "cell_type": "code",
   "execution_count": 16,
   "metadata": {},
   "outputs": [
    {
     "name": "stdout",
     "output_type": "stream",
     "text": [
      "       children  days_employed  age education  education_id     family_status  \\\n",
      "21520         1           4529   43   среднее             1  гражданский брак   \n",
      "21521         0          17155   67   среднее             1   женат / замужем   \n",
      "21522         1           2113   38   среднее             1  гражданский брак   \n",
      "21523         3           3112   38   среднее             1   женат / замужем   \n",
      "21524         2           1984   40   среднее             1   женат / замужем   \n",
      "\n",
      "       family_status_id gender income_type  debt  total_income  \\\n",
      "21520                 1      F   компаньон     0        224791   \n",
      "21521                 0      F   пенсионер     0        155999   \n",
      "21522                 1      M   сотрудник     1         89672   \n",
      "21523                 0      M   сотрудник     1        244093   \n",
      "21524                 0      F   сотрудник     0         82047   \n",
      "\n",
      "                            purpose      category  \n",
      "21520             операции с жильем  недвижимость  \n",
      "21521          сделка с автомобилем    автомобиль  \n",
      "21522                  недвижимость  недвижимость  \n",
      "21523  на покупку своего автомобиля    автомобиль  \n",
      "21524         на покупку автомобиля    автомобиль  \n"
     ]
    }
   ],
   "source": [
    "from pymystem3 import Mystem \n",
    "m = Mystem()\n",
    "#purpose_unique = []\n",
    "#purpose_unique = data['purpose'].unique()\n",
    "#print (purpose_unique)#узнаем сколько всего целей для организации цикла\n",
    "def category_of_purpose(row):\n",
    "    lem_purpose = m.lemmatize(row['purpose'])\n",
    "    if 'автомобиль' in lem_purpose:\n",
    "        return 'автомобиль'\n",
    "    if ('жилье' in lem_purpose) or ('недвижимость' in lem_purpose ):\n",
    "        return 'недвижимость'\n",
    "    if ('образование' in lem_purpose):\n",
    "        return 'обучение'\n",
    "    if ('свадьба' in lem_purpose):\n",
    "        return 'свадьба'\n",
    "    else:\n",
    "        return 'не определено'\n",
    "data['category'] = data.apply(category_of_purpose, axis=1)\n",
    "print (data.tail())\n",
    "#from collections import Counter \n",
    "#print(Counter(lst))"
   ]
  },
  {
   "cell_type": "markdown",
   "metadata": {},
   "source": [
    "<div class=\"alert alert-block alert-warning\">\n",
    "<b>Remarks:</b> \n",
    "    \n",
    "импортам место в начале проекта"
   ]
  },
  {
   "cell_type": "markdown",
   "metadata": {},
   "source": [
    "**Вывод**"
   ]
  },
  {
   "cell_type": "markdown",
   "metadata": {},
   "source": [
    "Произведена проверка уникальных значений в столбце  purpose. На основе полученных данных применена лемматизация."
   ]
  },
  {
   "cell_type": "markdown",
   "metadata": {},
   "source": [
    "### Категоризация данных"
   ]
  },
  {
   "cell_type": "code",
   "execution_count": 17,
   "metadata": {},
   "outputs": [
    {
     "name": "stdout",
     "output_type": "stream",
     "text": [
      "       children  days_employed  age       education  education_id  \\\n",
      "21515         1            467   28         среднее             1   \n",
      "21516         0            914   42          высшее             0   \n",
      "21517         0            404   42          высшее             0   \n",
      "21518         0          17155   59         среднее             1   \n",
      "21519         1           2351   37  ученая степень             4   \n",
      "21520         1           4529   43         среднее             1   \n",
      "21521         0          17155   67         среднее             1   \n",
      "21522         1           2113   38         среднее             1   \n",
      "21523         3           3112   38         среднее             1   \n",
      "21524         2           1984   40         среднее             1   \n",
      "\n",
      "          family_status  family_status_id gender income_type  debt  \\\n",
      "21515   женат / замужем                 0      F   сотрудник     1   \n",
      "21516   женат / замужем                 0      F   компаньон     0   \n",
      "21517  гражданский брак                 1      F   компаньон     0   \n",
      "21518   женат / замужем                 0      F   пенсионер     0   \n",
      "21519         в разводе                 3      M   сотрудник     0   \n",
      "21520  гражданский брак                 1      F   компаньон     0   \n",
      "21521   женат / замужем                 0      F   пенсионер     0   \n",
      "21522  гражданский брак                 1      M   сотрудник     1   \n",
      "21523   женат / замужем                 0      M   сотрудник     1   \n",
      "21524   женат / замужем                 0      F   сотрудник     0   \n",
      "\n",
      "       total_income                            purpose      category  \\\n",
      "21515        109486              заняться образованием      обучение   \n",
      "21516        322807               покупка своего жилья  недвижимость   \n",
      "21517        178059       на покупку своего автомобиля    автомобиль   \n",
      "21518        153864               сделка с автомобилем    автомобиль   \n",
      "21519        115949  покупка коммерческой недвижимости  недвижимость   \n",
      "21520        224791                  операции с жильем  недвижимость   \n",
      "21521        155999               сделка с автомобилем    автомобиль   \n",
      "21522         89672                       недвижимость  недвижимость   \n",
      "21523        244093       на покупку своего автомобиля    автомобиль   \n",
      "21524         82047              на покупку автомобиля    автомобиль   \n",
      "\n",
      "      children_status         debt_status                  income  \n",
      "21515       есть дети  есть задолженность  средний уровень дохода  \n",
      "21516       нет детей   нет задолженности  высокий уровень дохода  \n",
      "21517       нет детей   нет задолженности  высокий уровень дохода  \n",
      "21518       нет детей   нет задолженности  высокий уровень дохода  \n",
      "21519       есть дети   нет задолженности  средний уровень дохода  \n",
      "21520       есть дети   нет задолженности  высокий уровень дохода  \n",
      "21521       нет детей   нет задолженности  высокий уровень дохода  \n",
      "21522       есть дети  есть задолженность   низкий уровень дохода  \n",
      "21523       есть дети  есть задолженность  высокий уровень дохода  \n",
      "21524       есть дети   нет задолженности   низкий уровень дохода  \n"
     ]
    }
   ],
   "source": [
    "def children_status (kids):\n",
    "    if kids['children'] != 0:\n",
    "        return 'есть дети'\n",
    "    if kids ['children'] == 0:\n",
    "        return 'нет детей'\n",
    "data ['children_status'] = data.apply (children_status, axis = 1)\n",
    "#print (data.head(10))\n",
    "\n",
    "def debt_status (row):\n",
    "    if row ['debt'] == 1:\n",
    "        return 'есть задолженность'\n",
    "    else:\n",
    "        return 'нет задолженности'\n",
    "data ['debt_status'] = data.apply (debt_status, axis = 1)\n",
    "#print (data.tail(10))\n",
    "\n",
    "def income_status (row):\n",
    "    if row ['total_income'] < 100000:\n",
    "        return 'низкий уровень дохода'\n",
    "    if 100000 < row ['total_income'] < 150000:\n",
    "        return 'средний уровень дохода'\n",
    "    if  row ['total_income'] > 150000:\n",
    "        return 'высокий уровень дохода'\n",
    "data ['income'] = data.apply (income_status, axis = 1)\n",
    "print (data.tail(10))\n",
    "\n"
   ]
  },
  {
   "cell_type": "markdown",
   "metadata": {},
   "source": [
    "<div class=\"alert alert-block alert-warning\">\n",
    "<b>Remarks:</b> \n",
    "    \n",
    "В подобных функциях можно избавитсяь от последнего условия.\n",
    "    \n",
    "https://medium.com/lemon-code/guard-clauses-3bc0cd96a2d3\n",
    "    \n",
    "TL|DR: После `return/raise/continue/break` лучше пропускать `else\\if\\elif` "
   ]
  },
  {
   "cell_type": "markdown",
   "metadata": {},
   "source": [
    "**Вывод**"
   ]
  },
  {
   "cell_type": "markdown",
   "metadata": {},
   "source": [
    "На основе уникальных значений столбца выделены основные категории и произведена категоризация. Данные разбиты на категориии: автомобиль, свадьба, недвижимость, обучение. \n",
    "Также выделены категории \"есть задолженность\" и \"нет задолженности\" для всех клиентов банка. \n",
    "Выделены категории по наличию детей для ответа на вопросы. "
   ]
  },
  {
   "cell_type": "markdown",
   "metadata": {},
   "source": [
    "## Шаг 3. Ответьте на вопросы"
   ]
  },
  {
   "cell_type": "markdown",
   "metadata": {},
   "source": [
    "- Есть ли зависимость между наличием детей и возвратом кредита в срок?"
   ]
  },
  {
   "cell_type": "code",
   "execution_count": 18,
   "metadata": {},
   "outputs": [
    {
     "name": "stdout",
     "output_type": "stream",
     "text": [
      "debt_status      есть задолженность  нет задолженности\n",
      "children_status                                       \n",
      "нет детей                      1063              13086\n",
      "есть дети                       678               6698\n"
     ]
    },
    {
     "data": {
      "text/plain": [
       "<matplotlib.axes._subplots.AxesSubplot at 0x7f8b1e4525d0>"
      ]
     },
     "execution_count": 18,
     "metadata": {},
     "output_type": "execute_result"
    },
    {
     "data": {
      "image/png": "[encoded data removed]",
      "text/plain": [
       "<Figure size 432x288 with 1 Axes>"
      ]
     },
     "metadata": {
      "needs_background": "light"
     },
     "output_type": "display_data"
    }
   ],
   "source": [
    "data_pivot = data.pivot_table(\n",
    "    index = ['children_status'], \n",
    "    columns = 'debt_status',\n",
    "    values ='debt',\n",
    "    aggfunc = 'count')\n",
    "print (data_pivot.sort_index(ascending = False))\n",
    " \n",
    "sns.barplot (y = data['debt'], x = data ['children_status'])\n"
   ]
  },
  {
   "cell_type": "markdown",
   "metadata": {},
   "source": [
    "<div class=\"alert alert-block alert-warning\">\n",
    "<b>Remarks:</b> \n",
    "    \n",
    "Здорово, что самостоятельно разбираешься с визуализациями! Хочу подсказать тебе очень полезную библиотеку визуализаций: https://python-graph-gallery.com/ Тут ты можешь найти много классных примеров.\n",
    "    \n",
    "Также советую всегда убирать технический аутпут перед визуализациями при помощи `plt.show()`"
   ]
  },
  {
   "cell_type": "markdown",
   "metadata": {},
   "source": [
    "**Вывод**"
   ]
  },
  {
   "cell_type": "markdown",
   "metadata": {},
   "source": [
    "Среди клиентов банка, имеющих задолженности меньше тех, кто имеет детей. Соотвественно наличие детей положительно влияет на вероятность возварата кредита. "
   ]
  },
  {
   "cell_type": "markdown",
   "metadata": {},
   "source": [
    "- Есть ли зависимость между семейным положением и возвратом кредита в срок?"
   ]
  },
  {
   "cell_type": "code",
   "execution_count": 19,
   "metadata": {},
   "outputs": [
    {
     "name": "stdout",
     "output_type": "stream",
     "text": [
      "debt_status            есть задолженность  нет задолженности\n",
      "family_status                                               \n",
      "женат / замужем                       931              11449\n",
      "гражданский брак                      388               3789\n",
      "вдовец / вдова                         63                897\n",
      "в разводе                              85               1110\n",
      "Не женат / не замужем                 274               2539\n"
     ]
    },
    {
     "data": {
      "text/plain": [
       "<matplotlib.axes._subplots.AxesSubplot at 0x7f8b80896f10>"
      ]
     },
     "execution_count": 19,
     "metadata": {},
     "output_type": "execute_result"
    },
    {
     "data": {
      "image/png": "[encoded data removed]",
      "text/plain": [
       "<Figure size 432x288 with 1 Axes>"
      ]
     },
     "metadata": {
      "needs_background": "light"
     },
     "output_type": "display_data"
    }
   ],
   "source": [
    "data_pivot = data.pivot_table(\n",
    "    index = ['family_status'], \n",
    "    columns = 'debt_status',\n",
    "    values ='debt',\n",
    "    aggfunc = 'count')\n",
    "print (data_pivot.sort_index(ascending = False))\n",
    "import seaborn \n",
    "seaborn.barplot (y = data['debt'], x = data ['family_status'])"
   ]
  },
  {
   "cell_type": "markdown",
   "metadata": {},
   "source": [
    "**Вывод**"
   ]
  },
  {
   "cell_type": "markdown",
   "metadata": {},
   "source": [
    "Семейное положение слабо влияет на вероятность возврата кредита. Среди должников в каждом сегементе около 1-2 процентов должников или меньше. Но больше всего тех, кто не замужем\\не женат. Меньше всего должников среди категории вдовец\\вдова. "
   ]
  },
  {
   "cell_type": "markdown",
   "metadata": {},
   "source": [
    "- Есть ли зависимость между уровнем дохода и возвратом кредита в срок?"
   ]
  },
  {
   "cell_type": "code",
   "execution_count": 20,
   "metadata": {},
   "outputs": [
    {
     "name": "stdout",
     "output_type": "stream",
     "text": [
      "debt_status             есть задолженность  нет задолженности\n",
      "income                                                       \n",
      "средний уровень дохода                 491               5213\n",
      "низкий уровень дохода                  354               4109\n",
      "высокий уровень дохода                 896              10462\n"
     ]
    },
    {
     "data": {
      "text/plain": [
       "<matplotlib.axes._subplots.AxesSubplot at 0x7f8b80811a50>"
      ]
     },
     "execution_count": 20,
     "metadata": {},
     "output_type": "execute_result"
    },
    {
     "data": {
      "image/png": "[encoded data removed]",
      "text/plain": [
       "<Figure size 432x288 with 1 Axes>"
      ]
     },
     "metadata": {
      "needs_background": "light"
     },
     "output_type": "display_data"
    }
   ],
   "source": [
    "data_pivot = data.pivot_table(\n",
    "    index = ['income'], \n",
    "    columns = 'debt_status',\n",
    "    values ='debt',\n",
    "    aggfunc = 'count')\n",
    "print (data_pivot.sort_index(ascending = False))\n",
    "import seaborn \n",
    "seaborn.barplot (y = data['debt'], x = data ['income'])"
   ]
  },
  {
   "cell_type": "markdown",
   "metadata": {},
   "source": [
    "**Вывод**"
   ]
  },
  {
   "cell_type": "markdown",
   "metadata": {},
   "source": [
    "Больше всего задолженностей среди клиентов со среднем уровнем дохода. В целом этот показатель не сильно влияет на вероятность возврата. Среди всех категорий примерно одинаковый процент должников "
   ]
  },
  {
   "cell_type": "markdown",
   "metadata": {},
   "source": [
    "- Как разные цели кредита влияют на его возврат в срок?"
   ]
  },
  {
   "cell_type": "code",
   "execution_count": 21,
   "metadata": {
    "scrolled": false
   },
   "outputs": [
    {
     "name": "stdout",
     "output_type": "stream",
     "text": [
      "debt_status   есть задолженность  нет задолженности\n",
      "category                                           \n",
      "свадьба                      186               2162\n",
      "обучение                     370               3652\n",
      "недвижимость                 782              10058\n",
      "автомобиль                   403               3912\n"
     ]
    },
    {
     "data": {
      "text/plain": [
       "<matplotlib.axes._subplots.AxesSubplot at 0x7f8b807e7250>"
      ]
     },
     "execution_count": 21,
     "metadata": {},
     "output_type": "execute_result"
    },
    {
     "data": {
      "image/png": "[encoded data removed]",
      "text/plain": [
       "<Figure size 432x288 with 1 Axes>"
      ]
     },
     "metadata": {
      "needs_background": "light"
     },
     "output_type": "display_data"
    }
   ],
   "source": [
    "data_pivot = data.pivot_table(\n",
    "    index = ['category'], \n",
    "    columns = 'debt_status',\n",
    "    values ='debt',\n",
    "    aggfunc = 'count')\n",
    "print (data_pivot.sort_index(ascending = False))\n",
    " \n",
    "import seaborn \n",
    "seaborn.barplot (y = data ['debt'], x = data ['category'])#здесь надо выбрать столбик из debt_status, но пока не получается"
   ]
  },
  {
   "cell_type": "markdown",
   "metadata": {},
   "source": [
    "**Вывод**"
   ]
  },
  {
   "cell_type": "markdown",
   "metadata": {},
   "source": [
    "По процентному соотношению больше всего должников среди тех, кто брал кредит на автомобили"
   ]
  },
  {
   "cell_type": "markdown",
   "metadata": {},
   "source": [
    "## Шаг 4. Общий вывод"
   ]
  },
  {
   "cell_type": "markdown",
   "metadata": {},
   "source": [
    "На вероятность возврата кредита положительно влияет наличие детей и супруга\\супруги. Больше всего должников среди категории среднего уровня дохода. \n",
    "Наибольшую вероятность возврата кредита также имеют категории \"вдовец\\вдова\" и те клиенты, которые берут кредиты на недвижимость. "
   ]
  },
  {
   "cell_type": "markdown",
   "metadata": {},
   "source": [
    "<div class=\"alert alert-block alert-warning\">\n",
    "    \n",
    "<b>Remarks:</b>  Также давай напишем информативный общий вывод. Подумай об этом так: большинство заказчиков мало понимают в датасаенсе и начнут читать работу именно с него. Вывод должен содержать все обнаруженные инсайды и главное цифры.</div>"
   ]
  },
  {
   "cell_type": "markdown",
   "metadata": {},
   "source": [
    "## Чек-лист готовности проекта\n",
    "\n",
    "Поставьте 'x' в выполненных пунктах. Далее нажмите Shift+Enter."
   ]
  },
  {
   "cell_type": "markdown",
   "metadata": {},
   "source": [
    "- [x]  открыт файл;\n",
    "- [ ]  файл изучен;\n",
    "- [ ]  определены пропущенные значения;\n",
    "- [ ]  заполнены пропущенные значения;\n",
    "- [ ]  есть пояснение, какие пропущенные значения обнаружены;\n",
    "- [ ]  описаны возможные причины появления пропусков в данных;\n",
    "- [ ]  объяснено, по какому принципу заполнены пропуски;\n",
    "- [ ]  заменен вещественный тип данных на целочисленный;\n",
    "- [ ]  есть пояснение, какой метод используется для изменения типа данных и почему;\n",
    "- [ ]  удалены дубликаты;\n",
    "- [ ]  есть пояснение, какой метод используется для поиска и удаления дубликатов;\n",
    "- [ ]  описаны возможные причины появления дубликатов в данных;\n",
    "- [ ]  выделены леммы в значениях столбца с целями получения кредита;\n",
    "- [ ]  описан процесс лемматизации;\n",
    "- [ ]  данные категоризированы;\n",
    "- [ ]  есть объяснение принципа категоризации данных;\n",
    "- [ ]  есть ответ на вопрос: \"Есть ли зависимость между наличием детей и возвратом кредита в срок?\";\n",
    "- [ ]  есть ответ на вопрос: \"Есть ли зависимость между семейным положением и возвратом кредита в срок?\";\n",
    "- [ ]  есть ответ на вопрос: \"Есть ли зависимость между уровнем дохода и возвратом кредита в срок?\";\n",
    "- [ ]  есть ответ на вопрос: \"Как разные цели кредита влияют на его возврат в срок?\";\n",
    "- [ ]  в каждом этапе есть выводы;\n",
    "- [ ]  есть общий вывод."
   ]
  }
 ],
 "metadata": {
  "ExecuteTimeLog": [
   {
    "duration": 633,
    "start_time": "2022-01-04T22:12:26.751Z"
   },
   {
    "duration": 50,
    "start_time": "2022-01-04T22:12:40.896Z"
   },
   {
    "duration": 50,
    "start_time": "2022-01-04T22:12:44.987Z"
   },
   {
    "duration": 60,
    "start_time": "2022-01-04T22:12:50.531Z"
   },
   {
    "duration": 62,
    "start_time": "2022-01-04T22:13:14.689Z"
   },
   {
    "duration": 63,
    "start_time": "2022-01-04T22:14:37.042Z"
   },
   {
    "duration": 59,
    "start_time": "2022-01-04T22:14:54.432Z"
   },
   {
    "duration": 65,
    "start_time": "2022-01-04T22:15:23.970Z"
   },
   {
    "duration": 11,
    "start_time": "2022-01-04T22:20:05.258Z"
   },
   {
    "duration": 20,
    "start_time": "2022-01-04T22:20:19.505Z"
   },
   {
    "duration": 67,
    "start_time": "2022-01-04T22:21:27.695Z"
   },
   {
    "duration": 66,
    "start_time": "2022-01-04T22:21:45.104Z"
   },
   {
    "duration": 23,
    "start_time": "2022-01-04T22:22:12.762Z"
   },
   {
    "duration": 18,
    "start_time": "2022-01-04T22:22:23.903Z"
   },
   {
    "duration": 69,
    "start_time": "2022-01-04T22:23:19.124Z"
   },
   {
    "duration": 65,
    "start_time": "2022-01-04T22:25:49.109Z"
   },
   {
    "duration": 63,
    "start_time": "2022-01-04T22:27:45.752Z"
   },
   {
    "duration": 350,
    "start_time": "2022-01-05T09:27:17.199Z"
   },
   {
    "duration": 288,
    "start_time": "2022-01-05T09:28:17.765Z"
   },
   {
    "duration": 825,
    "start_time": "2022-01-05T09:28:25.030Z"
   },
   {
    "duration": 18,
    "start_time": "2022-01-05T09:28:29.459Z"
   },
   {
    "duration": 15,
    "start_time": "2022-01-05T09:29:28.652Z"
   },
   {
    "duration": 596,
    "start_time": "2022-01-05T09:42:00.344Z"
   },
   {
    "duration": 388,
    "start_time": "2022-01-05T09:42:26.400Z"
   },
   {
    "duration": 77,
    "start_time": "2022-01-05T09:42:37.245Z"
   },
   {
    "duration": 17,
    "start_time": "2022-01-05T09:51:21.557Z"
   },
   {
    "duration": 89,
    "start_time": "2022-01-05T09:59:33.509Z"
   },
   {
    "duration": 94,
    "start_time": "2022-01-05T09:59:42.211Z"
   },
   {
    "duration": 102,
    "start_time": "2022-01-05T09:59:58.052Z"
   },
   {
    "duration": 433,
    "start_time": "2022-01-05T10:00:09.750Z"
   },
   {
    "duration": 93,
    "start_time": "2022-01-05T10:00:22.625Z"
   },
   {
    "duration": 21,
    "start_time": "2022-01-05T10:01:28.085Z"
   },
   {
    "duration": 16,
    "start_time": "2022-01-05T10:02:11.115Z"
   },
   {
    "duration": 18,
    "start_time": "2022-01-05T10:30:12.606Z"
   },
   {
    "duration": 23,
    "start_time": "2022-01-05T10:30:16.804Z"
   },
   {
    "duration": 21,
    "start_time": "2022-01-05T10:39:49.133Z"
   },
   {
    "duration": 363,
    "start_time": "2022-01-05T10:44:45.614Z"
   },
   {
    "duration": 16,
    "start_time": "2022-01-05T10:45:30.277Z"
   },
   {
    "duration": 7188,
    "start_time": "2022-01-05T11:06:08.062Z"
   },
   {
    "duration": 20,
    "start_time": "2022-01-05T11:06:18.371Z"
   },
   {
    "duration": 31,
    "start_time": "2022-01-05T11:07:10.059Z"
   },
   {
    "duration": 37,
    "start_time": "2022-01-05T11:07:27.678Z"
   },
   {
    "duration": 23,
    "start_time": "2022-01-05T11:07:38.754Z"
   },
   {
    "duration": 34,
    "start_time": "2022-01-05T11:08:27.829Z"
   },
   {
    "duration": 29,
    "start_time": "2022-01-05T11:08:43.045Z"
   },
   {
    "duration": 22,
    "start_time": "2022-01-05T11:08:57.782Z"
   },
   {
    "duration": 20,
    "start_time": "2022-01-05T11:09:09.272Z"
   },
   {
    "duration": 24,
    "start_time": "2022-01-05T11:10:26.883Z"
   },
   {
    "duration": 20,
    "start_time": "2022-01-05T11:10:31.758Z"
   },
   {
    "duration": 298,
    "start_time": "2022-01-05T11:23:26.337Z"
   },
   {
    "duration": 330,
    "start_time": "2022-01-05T11:23:50.153Z"
   },
   {
    "duration": 340,
    "start_time": "2022-01-05T11:24:00.953Z"
   },
   {
    "duration": 123,
    "start_time": "2022-01-05T11:26:24.368Z"
   },
   {
    "duration": 31,
    "start_time": "2022-01-05T11:26:28.389Z"
   },
   {
    "duration": 304,
    "start_time": "2022-01-05T11:26:31.753Z"
   },
   {
    "duration": 303,
    "start_time": "2022-01-05T11:27:30.353Z"
   },
   {
    "duration": 68,
    "start_time": "2022-01-05T11:31:48.688Z"
   },
   {
    "duration": 23,
    "start_time": "2022-01-05T11:32:06.661Z"
   },
   {
    "duration": 25,
    "start_time": "2022-01-05T11:32:16.326Z"
   },
   {
    "duration": 30,
    "start_time": "2022-01-05T11:38:09.881Z"
   },
   {
    "duration": 29,
    "start_time": "2022-01-05T11:38:17.873Z"
   },
   {
    "duration": 89,
    "start_time": "2022-01-05T11:38:32.518Z"
   },
   {
    "duration": 23,
    "start_time": "2022-01-05T11:38:35.151Z"
   },
   {
    "duration": 30,
    "start_time": "2022-01-05T11:38:38.274Z"
   },
   {
    "duration": 28,
    "start_time": "2022-01-05T11:39:00.007Z"
   },
   {
    "duration": 30,
    "start_time": "2022-01-05T11:39:09.532Z"
   },
   {
    "duration": 33,
    "start_time": "2022-01-05T11:39:36.046Z"
   },
   {
    "duration": 29,
    "start_time": "2022-01-05T11:39:43.718Z"
   },
   {
    "duration": 29,
    "start_time": "2022-01-05T11:39:46.241Z"
   },
   {
    "duration": 3929,
    "start_time": "2022-01-05T11:40:11.255Z"
   },
   {
    "duration": 299,
    "start_time": "2022-01-05T11:40:19.129Z"
   },
   {
    "duration": 299,
    "start_time": "2022-01-05T11:40:25.035Z"
   },
   {
    "duration": 87,
    "start_time": "2022-01-05T11:40:36.161Z"
   },
   {
    "duration": 23,
    "start_time": "2022-01-05T11:40:38.752Z"
   },
   {
    "duration": 29,
    "start_time": "2022-01-05T11:40:41.918Z"
   },
   {
    "duration": 92,
    "start_time": "2022-01-05T17:27:33.434Z"
   },
   {
    "duration": 25,
    "start_time": "2022-01-05T17:27:37.536Z"
   },
   {
    "duration": 46,
    "start_time": "2022-01-05T17:27:40.018Z"
   },
   {
    "duration": 25,
    "start_time": "2022-01-05T17:28:19.461Z"
   },
   {
    "duration": 26,
    "start_time": "2022-01-05T17:33:47.005Z"
   },
   {
    "duration": 26,
    "start_time": "2022-01-05T17:34:11.647Z"
   },
   {
    "duration": 26,
    "start_time": "2022-01-05T17:34:19.656Z"
   },
   {
    "duration": 90,
    "start_time": "2022-01-05T17:34:31.415Z"
   },
   {
    "duration": 30,
    "start_time": "2022-01-05T17:34:31.508Z"
   },
   {
    "duration": 25,
    "start_time": "2022-01-05T17:34:31.541Z"
   },
   {
    "duration": 27,
    "start_time": "2022-01-05T17:34:51.788Z"
   },
   {
    "duration": 95,
    "start_time": "2022-01-05T17:35:29.981Z"
   },
   {
    "duration": 26,
    "start_time": "2022-01-05T17:35:33.787Z"
   },
   {
    "duration": 20,
    "start_time": "2022-01-05T17:35:37.155Z"
   },
   {
    "duration": 21,
    "start_time": "2022-01-05T17:36:36.188Z"
   },
   {
    "duration": 31,
    "start_time": "2022-01-05T17:37:43.812Z"
   },
   {
    "duration": 20,
    "start_time": "2022-01-05T17:38:05.299Z"
   },
   {
    "duration": 32,
    "start_time": "2022-01-05T17:43:45.808Z"
   },
   {
    "duration": 40,
    "start_time": "2022-01-05T17:44:30.164Z"
   },
   {
    "duration": 142,
    "start_time": "2022-01-05T17:54:36.932Z"
   },
   {
    "duration": 33,
    "start_time": "2022-01-05T17:54:51.402Z"
   },
   {
    "duration": 21,
    "start_time": "2022-01-05T17:55:04.070Z"
   },
   {
    "duration": 768,
    "start_time": "2022-01-05T17:55:24.658Z"
   },
   {
    "duration": 725,
    "start_time": "2022-01-05T17:55:36.369Z"
   },
   {
    "duration": 737,
    "start_time": "2022-01-05T17:56:01.300Z"
   },
   {
    "duration": 94,
    "start_time": "2022-01-05T17:56:19.049Z"
   },
   {
    "duration": 21,
    "start_time": "2022-01-05T17:56:47.923Z"
   },
   {
    "duration": 13,
    "start_time": "2022-01-05T17:56:55.267Z"
   },
   {
    "duration": 92,
    "start_time": "2022-01-05T17:57:47.732Z"
   },
   {
    "duration": 111,
    "start_time": "2022-01-05T17:57:51.969Z"
   },
   {
    "duration": 16,
    "start_time": "2022-01-05T17:58:03.984Z"
   },
   {
    "duration": 31,
    "start_time": "2022-01-05T17:58:47.105Z"
   },
   {
    "duration": 91,
    "start_time": "2022-01-05T17:59:00.587Z"
   },
   {
    "duration": 23,
    "start_time": "2022-01-05T17:59:00.680Z"
   },
   {
    "duration": 47,
    "start_time": "2022-01-05T17:59:28.437Z"
   },
   {
    "duration": 34,
    "start_time": "2022-01-05T18:00:05.487Z"
   },
   {
    "duration": 34,
    "start_time": "2022-01-05T18:00:18.942Z"
   },
   {
    "duration": 34,
    "start_time": "2022-01-05T18:00:32.051Z"
   },
   {
    "duration": 32,
    "start_time": "2022-01-05T18:00:39.778Z"
   },
   {
    "duration": 31,
    "start_time": "2022-01-05T18:00:47.402Z"
   },
   {
    "duration": 31,
    "start_time": "2022-01-05T18:00:53.725Z"
   },
   {
    "duration": 32,
    "start_time": "2022-01-05T18:01:02.360Z"
   },
   {
    "duration": 31,
    "start_time": "2022-01-05T18:01:11.663Z"
   },
   {
    "duration": 90,
    "start_time": "2022-01-05T18:01:19.234Z"
   },
   {
    "duration": 23,
    "start_time": "2022-01-05T18:01:19.327Z"
   },
   {
    "duration": 33,
    "start_time": "2022-01-05T18:01:22.097Z"
   },
   {
    "duration": 32,
    "start_time": "2022-01-05T18:01:34.431Z"
   },
   {
    "duration": 110,
    "start_time": "2022-01-05T18:21:09.538Z"
   },
   {
    "duration": 108,
    "start_time": "2022-01-05T18:21:46.058Z"
   },
   {
    "duration": 109,
    "start_time": "2022-01-05T18:22:29.736Z"
   },
   {
    "duration": 103,
    "start_time": "2022-01-05T18:22:37.381Z"
   },
   {
    "duration": 151,
    "start_time": "2022-01-05T18:22:47.900Z"
   },
   {
    "duration": 102,
    "start_time": "2022-01-05T18:22:57.331Z"
   },
   {
    "duration": 319,
    "start_time": "2022-01-05T18:23:17.219Z"
   },
   {
    "duration": 93,
    "start_time": "2022-01-05T18:36:57.129Z"
   },
   {
    "duration": 724,
    "start_time": "2022-01-05T18:37:02.066Z"
   },
   {
    "duration": 284,
    "start_time": "2022-01-05T18:41:12.017Z"
   },
   {
    "duration": 54,
    "start_time": "2022-01-05T18:41:30.070Z"
   },
   {
    "duration": 44,
    "start_time": "2022-01-05T18:41:44.871Z"
   },
   {
    "duration": 25,
    "start_time": "2022-01-05T18:41:58.031Z"
   },
   {
    "duration": 23,
    "start_time": "2022-01-05T18:42:14.247Z"
   },
   {
    "duration": 90,
    "start_time": "2022-01-05T18:42:32.391Z"
   },
   {
    "duration": 25,
    "start_time": "2022-01-05T18:42:32.483Z"
   },
   {
    "duration": 33,
    "start_time": "2022-01-05T18:42:34.888Z"
   },
   {
    "duration": 23,
    "start_time": "2022-01-05T18:44:03.485Z"
   },
   {
    "duration": 94,
    "start_time": "2022-01-05T18:44:27.332Z"
   },
   {
    "duration": 22,
    "start_time": "2022-01-05T18:45:46.716Z"
   },
   {
    "duration": 104,
    "start_time": "2022-01-05T18:46:04.330Z"
   },
   {
    "duration": 22,
    "start_time": "2022-01-05T18:46:09.038Z"
   },
   {
    "duration": 16,
    "start_time": "2022-01-05T18:49:37.089Z"
   },
   {
    "duration": 15,
    "start_time": "2022-01-05T18:49:46.288Z"
   },
   {
    "duration": 15,
    "start_time": "2022-01-05T18:50:03.546Z"
   },
   {
    "duration": 13,
    "start_time": "2022-01-05T18:50:41.162Z"
   },
   {
    "duration": 15,
    "start_time": "2022-01-05T18:51:51.540Z"
   },
   {
    "duration": 14,
    "start_time": "2022-01-05T18:54:37.862Z"
   },
   {
    "duration": 14,
    "start_time": "2022-01-05T18:55:56.312Z"
   },
   {
    "duration": 98,
    "start_time": "2022-01-05T18:58:17.626Z"
   },
   {
    "duration": 17,
    "start_time": "2022-01-05T18:58:22.879Z"
   },
   {
    "duration": 6,
    "start_time": "2022-01-05T19:00:01.186Z"
   },
   {
    "duration": 21,
    "start_time": "2022-01-05T19:00:13.040Z"
   },
   {
    "duration": 89,
    "start_time": "2022-01-05T19:00:23.860Z"
   },
   {
    "duration": 24,
    "start_time": "2022-01-05T19:00:23.952Z"
   },
   {
    "duration": 25,
    "start_time": "2022-01-05T19:00:26.132Z"
   },
   {
    "duration": 14,
    "start_time": "2022-01-05T19:00:42.143Z"
   },
   {
    "duration": 14,
    "start_time": "2022-01-05T19:01:27.617Z"
   },
   {
    "duration": 14,
    "start_time": "2022-01-05T19:08:19.663Z"
   },
   {
    "duration": 15,
    "start_time": "2022-01-05T19:08:34.828Z"
   },
   {
    "duration": 14,
    "start_time": "2022-01-05T19:09:06.060Z"
   },
   {
    "duration": 146,
    "start_time": "2022-01-05T19:17:40.181Z"
   },
   {
    "duration": 15,
    "start_time": "2022-01-05T19:17:47.700Z"
   },
   {
    "duration": 101,
    "start_time": "2022-01-05T19:18:00.940Z"
   },
   {
    "duration": 15,
    "start_time": "2022-01-05T19:18:05.617Z"
   },
   {
    "duration": 106,
    "start_time": "2022-01-05T19:18:08.740Z"
   },
   {
    "duration": 16,
    "start_time": "2022-01-05T19:18:17.067Z"
   },
   {
    "duration": 16,
    "start_time": "2022-01-05T19:23:59.013Z"
   },
   {
    "duration": 16,
    "start_time": "2022-01-05T19:24:01.541Z"
   },
   {
    "duration": 16,
    "start_time": "2022-01-05T19:24:08.812Z"
   },
   {
    "duration": 19,
    "start_time": "2022-01-05T19:24:18.857Z"
   },
   {
    "duration": 19,
    "start_time": "2022-01-05T19:24:37.150Z"
   },
   {
    "duration": 19,
    "start_time": "2022-01-05T19:24:38.613Z"
   },
   {
    "duration": 18,
    "start_time": "2022-01-05T19:24:39.439Z"
   },
   {
    "duration": 20,
    "start_time": "2022-01-05T19:24:54.220Z"
   },
   {
    "duration": 19,
    "start_time": "2022-01-05T19:24:56.672Z"
   },
   {
    "duration": 86,
    "start_time": "2022-01-05T19:25:01.239Z"
   },
   {
    "duration": 22,
    "start_time": "2022-01-05T19:25:01.328Z"
   },
   {
    "duration": 22,
    "start_time": "2022-01-05T19:25:03.317Z"
   },
   {
    "duration": 35,
    "start_time": "2022-01-05T19:25:32.825Z"
   },
   {
    "duration": 25,
    "start_time": "2022-01-05T19:25:45.600Z"
   },
   {
    "duration": 20,
    "start_time": "2022-01-05T19:25:48.649Z"
   },
   {
    "duration": 55,
    "start_time": "2022-01-05T19:32:05.290Z"
   },
   {
    "duration": 53,
    "start_time": "2022-01-05T19:32:09.971Z"
   },
   {
    "duration": 89,
    "start_time": "2022-01-05T19:32:14.675Z"
   },
   {
    "duration": 22,
    "start_time": "2022-01-05T19:32:14.766Z"
   },
   {
    "duration": 37,
    "start_time": "2022-01-05T19:32:14.791Z"
   },
   {
    "duration": 93,
    "start_time": "2022-01-05T19:32:57.689Z"
   },
   {
    "duration": 22,
    "start_time": "2022-01-05T19:32:57.785Z"
   },
   {
    "duration": 22,
    "start_time": "2022-01-05T19:32:57.823Z"
   },
   {
    "duration": 53,
    "start_time": "2022-01-05T19:33:00.371Z"
   },
   {
    "duration": 36,
    "start_time": "2022-01-05T19:33:08.650Z"
   },
   {
    "duration": 38,
    "start_time": "2022-01-05T19:33:09.450Z"
   },
   {
    "duration": 51,
    "start_time": "2022-01-05T19:33:15.232Z"
   },
   {
    "duration": 50,
    "start_time": "2022-01-05T19:33:59.382Z"
   },
   {
    "duration": 51,
    "start_time": "2022-01-05T19:34:56.859Z"
   },
   {
    "duration": 77,
    "start_time": "2022-01-05T19:36:15.206Z"
   },
   {
    "duration": 39,
    "start_time": "2022-01-05T19:36:43.199Z"
   },
   {
    "duration": 88,
    "start_time": "2022-01-05T19:36:50.319Z"
   },
   {
    "duration": 29,
    "start_time": "2022-01-05T19:36:50.410Z"
   },
   {
    "duration": 22,
    "start_time": "2022-01-05T19:36:50.442Z"
   },
   {
    "duration": 36,
    "start_time": "2022-01-05T19:36:52.220Z"
   },
   {
    "duration": 32,
    "start_time": "2022-01-05T19:37:14.137Z"
   },
   {
    "duration": 54,
    "start_time": "2022-01-05T19:38:13.147Z"
   },
   {
    "duration": 36,
    "start_time": "2022-01-05T19:38:29.893Z"
   },
   {
    "duration": 37,
    "start_time": "2022-01-05T19:38:44.060Z"
   },
   {
    "duration": 35,
    "start_time": "2022-01-05T19:38:50.308Z"
   },
   {
    "duration": 340,
    "start_time": "2022-01-05T19:41:28.912Z"
   },
   {
    "duration": 554,
    "start_time": "2022-01-05T19:41:34.781Z"
   },
   {
    "duration": 287,
    "start_time": "2022-01-05T19:42:06.324Z"
   },
   {
    "duration": 46,
    "start_time": "2022-01-05T19:42:24.375Z"
   },
   {
    "duration": 308,
    "start_time": "2022-01-05T19:44:49.907Z"
   },
   {
    "duration": 44,
    "start_time": "2022-01-05T19:45:02.671Z"
   },
   {
    "duration": 96,
    "start_time": "2022-01-05T19:51:01.027Z"
   },
   {
    "duration": 42,
    "start_time": "2022-01-05T19:51:12.628Z"
   },
   {
    "duration": 44,
    "start_time": "2022-01-05T19:52:57.565Z"
   },
   {
    "duration": 11,
    "start_time": "2022-01-05T20:06:27.547Z"
   },
   {
    "duration": 274,
    "start_time": "2022-01-05T20:21:51.136Z"
   },
   {
    "duration": 6,
    "start_time": "2022-01-05T20:22:14.107Z"
   },
   {
    "duration": 10,
    "start_time": "2022-01-05T22:15:54.011Z"
   },
   {
    "duration": 89,
    "start_time": "2022-01-05T22:35:12.224Z"
   },
   {
    "duration": 28,
    "start_time": "2022-01-05T22:35:12.316Z"
   },
   {
    "duration": 50,
    "start_time": "2022-01-05T22:35:31.167Z"
   },
   {
    "duration": 7890,
    "start_time": "2022-01-05T22:35:35.130Z"
   },
   {
    "duration": 23,
    "start_time": "2022-01-05T22:35:46.407Z"
   },
   {
    "duration": 48,
    "start_time": "2022-01-05T22:35:51.893Z"
   },
   {
    "duration": 12387,
    "start_time": "2022-01-05T22:35:55.509Z"
   },
   {
    "duration": 8068,
    "start_time": "2022-01-05T22:39:05.539Z"
   },
   {
    "duration": 6528,
    "start_time": "2022-01-05T22:39:37.328Z"
   },
   {
    "duration": 5318,
    "start_time": "2022-01-05T22:40:58.687Z"
   },
   {
    "duration": 5392,
    "start_time": "2022-01-05T22:41:23.680Z"
   },
   {
    "duration": 5643,
    "start_time": "2022-01-05T22:41:56.803Z"
   },
   {
    "duration": 5293,
    "start_time": "2022-01-05T22:42:10.629Z"
   },
   {
    "duration": 7777,
    "start_time": "2022-01-05T22:42:51.025Z"
   },
   {
    "duration": 5181,
    "start_time": "2022-01-05T22:43:04.004Z"
   },
   {
    "duration": 5186,
    "start_time": "2022-01-05T22:44:01.302Z"
   },
   {
    "duration": 4878,
    "start_time": "2022-01-05T22:44:31.216Z"
   },
   {
    "duration": 5659,
    "start_time": "2022-01-05T22:45:27.101Z"
   },
   {
    "duration": 5361,
    "start_time": "2022-01-05T22:46:02.713Z"
   },
   {
    "duration": 305,
    "start_time": "2022-01-05T22:46:18.792Z"
   },
   {
    "duration": 6083,
    "start_time": "2022-01-05T22:46:30.960Z"
   },
   {
    "duration": 6221,
    "start_time": "2022-01-05T22:46:53.377Z"
   },
   {
    "duration": 6622,
    "start_time": "2022-01-05T22:49:16.164Z"
   },
   {
    "duration": 8619,
    "start_time": "2022-01-05T22:53:20.432Z"
   },
   {
    "duration": 8346,
    "start_time": "2022-01-05T22:53:39.146Z"
   },
   {
    "duration": 12440,
    "start_time": "2022-01-05T22:54:07.582Z"
   },
   {
    "duration": 8176,
    "start_time": "2022-01-05T22:54:46.686Z"
   },
   {
    "duration": 122,
    "start_time": "2022-01-05T22:55:02.701Z"
   },
   {
    "duration": 23,
    "start_time": "2022-01-05T22:55:02.826Z"
   },
   {
    "duration": 25,
    "start_time": "2022-01-05T22:55:02.853Z"
   },
   {
    "duration": 76,
    "start_time": "2022-01-05T22:55:02.881Z"
   },
   {
    "duration": 6677,
    "start_time": "2022-01-05T22:55:02.960Z"
   },
   {
    "duration": 149,
    "start_time": "2022-01-06T09:02:41.352Z"
   },
   {
    "duration": 353,
    "start_time": "2022-01-06T09:03:26.222Z"
   },
   {
    "duration": 250,
    "start_time": "2022-01-06T09:05:21.374Z"
   },
   {
    "duration": 376,
    "start_time": "2022-01-06T09:06:27.726Z"
   },
   {
    "duration": 687,
    "start_time": "2022-01-06T09:06:51.069Z"
   },
   {
    "duration": 18,
    "start_time": "2022-01-06T09:06:51.758Z"
   },
   {
    "duration": 16,
    "start_time": "2022-01-06T09:06:51.778Z"
   },
   {
    "duration": 35,
    "start_time": "2022-01-06T09:06:51.796Z"
   },
   {
    "duration": 4404,
    "start_time": "2022-01-06T09:06:51.833Z"
   },
   {
    "duration": 337,
    "start_time": "2022-01-06T09:06:56.239Z"
   },
   {
    "duration": 261,
    "start_time": "2022-01-06T09:07:34.467Z"
   },
   {
    "duration": 287,
    "start_time": "2022-01-06T09:07:53.766Z"
   },
   {
    "duration": 28,
    "start_time": "2022-01-06T09:18:35.554Z"
   },
   {
    "duration": 18,
    "start_time": "2022-01-06T09:19:34.846Z"
   },
   {
    "duration": 296,
    "start_time": "2022-01-06T09:20:30.674Z"
   },
   {
    "duration": 21,
    "start_time": "2022-01-06T09:20:53.800Z"
   },
   {
    "duration": 395,
    "start_time": "2022-01-06T09:23:18.158Z"
   },
   {
    "duration": 18,
    "start_time": "2022-01-06T09:23:37.135Z"
   },
   {
    "duration": 433,
    "start_time": "2022-01-06T10:06:45.710Z"
   },
   {
    "duration": 14,
    "start_time": "2022-01-06T10:06:51.325Z"
   },
   {
    "duration": 14,
    "start_time": "2022-01-06T10:07:07.253Z"
   },
   {
    "duration": 82,
    "start_time": "2022-01-06T10:07:42.052Z"
   },
   {
    "duration": 82,
    "start_time": "2022-01-06T10:07:47.258Z"
   },
   {
    "duration": 13,
    "start_time": "2022-01-06T10:08:08.382Z"
   },
   {
    "duration": 15,
    "start_time": "2022-01-06T10:08:31.254Z"
   },
   {
    "duration": 16,
    "start_time": "2022-01-06T10:09:04.816Z"
   },
   {
    "duration": 1526,
    "start_time": "2022-01-06T10:13:30.638Z"
   },
   {
    "duration": 1884,
    "start_time": "2022-01-06T10:13:40.804Z"
   },
   {
    "duration": 1385,
    "start_time": "2022-01-06T10:14:05.317Z"
   },
   {
    "duration": 86,
    "start_time": "2022-01-06T10:14:14.208Z"
   },
   {
    "duration": 1310,
    "start_time": "2022-01-06T10:14:17.577Z"
   },
   {
    "duration": 1199,
    "start_time": "2022-01-06T10:15:21.226Z"
   },
   {
    "duration": 348,
    "start_time": "2022-01-06T10:15:59.825Z"
   },
   {
    "duration": 452,
    "start_time": "2022-01-06T10:16:08.214Z"
   },
   {
    "duration": 79,
    "start_time": "2022-01-06T10:19:03.221Z"
   },
   {
    "duration": 527,
    "start_time": "2022-01-06T10:19:07.213Z"
   },
   {
    "duration": 554,
    "start_time": "2022-01-06T10:19:25.151Z"
   },
   {
    "duration": 6615,
    "start_time": "2022-01-06T10:19:39.319Z"
   },
   {
    "duration": 81,
    "start_time": "2022-01-06T10:20:05.538Z"
   },
   {
    "duration": 101,
    "start_time": "2022-01-06T10:20:25.032Z"
   },
   {
    "duration": 81,
    "start_time": "2022-01-06T10:20:40.468Z"
   },
   {
    "duration": 75,
    "start_time": "2022-01-06T10:21:03.175Z"
   },
   {
    "duration": 17,
    "start_time": "2022-01-06T10:21:03.252Z"
   },
   {
    "duration": 18,
    "start_time": "2022-01-06T10:21:03.271Z"
   },
   {
    "duration": 36,
    "start_time": "2022-01-06T10:21:03.291Z"
   },
   {
    "duration": 4486,
    "start_time": "2022-01-06T10:21:03.329Z"
   },
   {
    "duration": 546,
    "start_time": "2022-01-06T10:21:07.818Z"
   },
   {
    "duration": 90,
    "start_time": "2022-01-06T10:21:08.366Z"
   },
   {
    "duration": 23,
    "start_time": "2022-01-06T10:21:24.268Z"
   },
   {
    "duration": 7141,
    "start_time": "2022-01-06T10:21:42.715Z"
   },
   {
    "duration": 17,
    "start_time": "2022-01-06T10:23:41.232Z"
   },
   {
    "duration": 17,
    "start_time": "2022-01-06T10:59:57.677Z"
   },
   {
    "duration": 81,
    "start_time": "2022-01-06T11:04:02.969Z"
   },
   {
    "duration": 87,
    "start_time": "2022-01-06T11:04:27.818Z"
   },
   {
    "duration": 6319,
    "start_time": "2022-01-06T11:04:34.240Z"
   },
   {
    "duration": 7151,
    "start_time": "2022-01-06T11:07:06.040Z"
   },
   {
    "duration": 77,
    "start_time": "2022-01-06T14:39:38.175Z"
   },
   {
    "duration": 16,
    "start_time": "2022-01-06T14:39:38.254Z"
   },
   {
    "duration": 16,
    "start_time": "2022-01-06T14:39:38.272Z"
   },
   {
    "duration": 33,
    "start_time": "2022-01-06T14:39:38.290Z"
   },
   {
    "duration": 4680,
    "start_time": "2022-01-06T14:39:38.325Z"
   },
   {
    "duration": 582,
    "start_time": "2022-01-06T14:39:43.007Z"
   },
   {
    "duration": 6567,
    "start_time": "2022-01-06T14:39:43.590Z"
   },
   {
    "duration": 7443,
    "start_time": "2022-01-06T14:39:58.127Z"
   },
   {
    "duration": 262,
    "start_time": "2022-01-06T14:41:29.562Z"
   },
   {
    "duration": 7273,
    "start_time": "2022-01-06T14:43:38.316Z"
   },
   {
    "duration": 7907,
    "start_time": "2022-01-06T14:45:38.324Z"
   },
   {
    "duration": 12075,
    "start_time": "2022-01-06T14:46:02.481Z"
   },
   {
    "duration": 7371,
    "start_time": "2022-01-06T14:49:10.923Z"
   },
   {
    "duration": 17,
    "start_time": "2022-01-06T14:49:51.836Z"
   },
   {
    "duration": 7680,
    "start_time": "2022-01-06T14:50:30.180Z"
   },
   {
    "duration": 6698,
    "start_time": "2022-01-06T14:50:53.102Z"
   },
   {
    "duration": 78,
    "start_time": "2022-01-06T14:51:03.728Z"
   },
   {
    "duration": 17,
    "start_time": "2022-01-06T14:51:03.808Z"
   },
   {
    "duration": 37,
    "start_time": "2022-01-06T14:51:03.827Z"
   },
   {
    "duration": 55,
    "start_time": "2022-01-06T14:51:03.866Z"
   },
   {
    "duration": 5472,
    "start_time": "2022-01-06T14:51:03.923Z"
   },
   {
    "duration": 803,
    "start_time": "2022-01-06T14:51:09.397Z"
   },
   {
    "duration": 228,
    "start_time": "2022-01-06T14:51:16.841Z"
   },
   {
    "duration": 7234,
    "start_time": "2022-01-06T14:51:29.547Z"
   },
   {
    "duration": 8308,
    "start_time": "2022-01-06T14:51:43.858Z"
   },
   {
    "duration": 7003,
    "start_time": "2022-01-06T14:52:44.782Z"
   },
   {
    "duration": 17,
    "start_time": "2022-01-06T14:53:28.676Z"
   },
   {
    "duration": 253,
    "start_time": "2022-01-06T14:55:08.691Z"
   },
   {
    "duration": 256,
    "start_time": "2022-01-06T14:55:13.463Z"
   },
   {
    "duration": 7139,
    "start_time": "2022-01-06T14:55:18.057Z"
   },
   {
    "duration": 7507,
    "start_time": "2022-01-06T14:55:44.702Z"
   },
   {
    "duration": 9206,
    "start_time": "2022-01-06T14:56:03.623Z"
   },
   {
    "duration": 7191,
    "start_time": "2022-01-06T14:57:16.012Z"
   },
   {
    "duration": 24,
    "start_time": "2022-01-06T14:57:31.161Z"
   },
   {
    "duration": 18,
    "start_time": "2022-01-06T14:59:57.490Z"
   },
   {
    "duration": 36,
    "start_time": "2022-01-06T15:03:11.830Z"
   },
   {
    "duration": 18,
    "start_time": "2022-01-06T15:04:45.831Z"
   },
   {
    "duration": 8179,
    "start_time": "2022-01-06T15:18:36.459Z"
   },
   {
    "duration": 7737,
    "start_time": "2022-01-06T15:20:52.544Z"
   },
   {
    "duration": 492,
    "start_time": "2022-01-06T15:23:43.903Z"
   },
   {
    "duration": 634,
    "start_time": "2022-01-06T15:24:53.081Z"
   },
   {
    "duration": 631,
    "start_time": "2022-01-06T15:25:31.782Z"
   },
   {
    "duration": 260,
    "start_time": "2022-01-06T15:26:39.342Z"
   },
   {
    "duration": 259,
    "start_time": "2022-01-06T15:26:44.112Z"
   },
   {
    "duration": 257,
    "start_time": "2022-01-06T15:26:47.734Z"
   },
   {
    "duration": 268,
    "start_time": "2022-01-06T15:26:58.128Z"
   },
   {
    "duration": 271,
    "start_time": "2022-01-06T15:27:49.355Z"
   },
   {
    "duration": 267,
    "start_time": "2022-01-06T15:27:58.397Z"
   },
   {
    "duration": 350,
    "start_time": "2022-01-06T15:28:05.286Z"
   },
   {
    "duration": 955,
    "start_time": "2022-01-06T15:28:16.455Z"
   },
   {
    "duration": 271,
    "start_time": "2022-01-06T15:28:48.367Z"
   },
   {
    "duration": 306,
    "start_time": "2022-01-06T15:30:37.477Z"
   },
   {
    "duration": 263,
    "start_time": "2022-01-06T15:31:04.623Z"
   },
   {
    "duration": 6537,
    "start_time": "2022-01-06T15:31:22.717Z"
   },
   {
    "duration": 6892,
    "start_time": "2022-01-06T15:31:46.135Z"
   },
   {
    "duration": 7270,
    "start_time": "2022-01-06T15:33:01.233Z"
   },
   {
    "duration": 268,
    "start_time": "2022-01-06T15:33:32.964Z"
   },
   {
    "duration": 8567,
    "start_time": "2022-01-06T15:33:42.940Z"
   },
   {
    "duration": 575,
    "start_time": "2022-01-06T15:35:48.446Z"
   },
   {
    "duration": 6893,
    "start_time": "2022-01-06T15:36:28.397Z"
   },
   {
    "duration": 537,
    "start_time": "2022-01-06T15:36:51.017Z"
   },
   {
    "duration": 264,
    "start_time": "2022-01-06T15:37:11.156Z"
   },
   {
    "duration": 659,
    "start_time": "2022-01-06T15:37:16.574Z"
   },
   {
    "duration": 24,
    "start_time": "2022-01-06T15:39:16.346Z"
   },
   {
    "duration": 849,
    "start_time": "2022-01-06T15:49:42.387Z"
   },
   {
    "duration": 260,
    "start_time": "2022-01-06T15:50:35.082Z"
   },
   {
    "duration": 716,
    "start_time": "2022-01-06T15:51:31.238Z"
   },
   {
    "duration": 901,
    "start_time": "2022-01-06T15:52:17.388Z"
   },
   {
    "duration": 21,
    "start_time": "2022-01-06T15:52:20.920Z"
   },
   {
    "duration": 19,
    "start_time": "2022-01-06T15:52:24.725Z"
   },
   {
    "duration": 615,
    "start_time": "2022-01-06T15:52:27.585Z"
   },
   {
    "duration": 1016,
    "start_time": "2022-01-06T15:53:21.192Z"
   },
   {
    "duration": 956,
    "start_time": "2022-01-06T15:54:09.866Z"
   },
   {
    "duration": 937,
    "start_time": "2022-01-06T15:55:05.320Z"
   },
   {
    "duration": 916,
    "start_time": "2022-01-06T15:55:40.886Z"
   },
   {
    "duration": 929,
    "start_time": "2022-01-06T15:56:09.675Z"
   },
   {
    "duration": 693,
    "start_time": "2022-01-06T15:56:21.044Z"
   },
   {
    "duration": 668,
    "start_time": "2022-01-06T15:56:55.936Z"
   },
   {
    "duration": 334,
    "start_time": "2022-01-06T15:58:31.529Z"
   },
   {
    "duration": 284,
    "start_time": "2022-01-06T15:58:50.107Z"
   },
   {
    "duration": 263,
    "start_time": "2022-01-06T15:58:59.652Z"
   },
   {
    "duration": 592,
    "start_time": "2022-01-06T15:59:07.468Z"
   },
   {
    "duration": 618,
    "start_time": "2022-01-06T16:03:48.809Z"
   },
   {
    "duration": 426,
    "start_time": "2022-01-06T16:05:32.596Z"
   },
   {
    "duration": 670,
    "start_time": "2022-01-07T13:41:15.270Z"
   },
   {
    "duration": 15,
    "start_time": "2022-01-07T13:41:15.942Z"
   },
   {
    "duration": 15,
    "start_time": "2022-01-07T13:41:15.959Z"
   },
   {
    "duration": 34,
    "start_time": "2022-01-07T13:41:15.991Z"
   },
   {
    "duration": 3998,
    "start_time": "2022-01-07T13:41:16.026Z"
   },
   {
    "duration": 923,
    "start_time": "2022-01-07T13:41:20.027Z"
   },
   {
    "duration": 993,
    "start_time": "2022-01-07T13:41:20.951Z"
   },
   {
    "duration": 645,
    "start_time": "2022-01-07T13:41:21.946Z"
   },
   {
    "duration": 619,
    "start_time": "2022-01-07T13:41:22.593Z"
   },
   {
    "duration": 630,
    "start_time": "2022-01-07T13:41:23.214Z"
   },
   {
    "duration": 474,
    "start_time": "2022-01-07T17:28:13.743Z"
   },
   {
    "duration": 882,
    "start_time": "2022-01-07T17:28:18.101Z"
   },
   {
    "duration": 345,
    "start_time": "2022-01-07T17:28:18.986Z"
   },
   {
    "duration": 162,
    "start_time": "2022-01-07T17:28:19.173Z"
   },
   {
    "duration": 156,
    "start_time": "2022-01-07T17:28:19.181Z"
   },
   {
    "duration": 153,
    "start_time": "2022-01-07T17:28:19.186Z"
   },
   {
    "duration": 152,
    "start_time": "2022-01-07T17:28:19.189Z"
   },
   {
    "duration": 151,
    "start_time": "2022-01-07T17:28:19.193Z"
   },
   {
    "duration": 149,
    "start_time": "2022-01-07T17:28:19.197Z"
   },
   {
    "duration": 147,
    "start_time": "2022-01-07T17:28:19.201Z"
   },
   {
    "duration": 144,
    "start_time": "2022-01-07T17:28:19.206Z"
   },
   {
    "duration": 145,
    "start_time": "2022-01-07T17:28:30.499Z"
   },
   {
    "duration": 337,
    "start_time": "2022-01-07T17:28:34.544Z"
   },
   {
    "duration": 1021,
    "start_time": "2022-01-08T09:38:17.659Z"
   },
   {
    "duration": 34,
    "start_time": "2022-01-08T09:38:18.683Z"
   },
   {
    "duration": 24,
    "start_time": "2022-01-08T09:38:18.720Z"
   },
   {
    "duration": 77,
    "start_time": "2022-01-08T09:38:18.747Z"
   },
   {
    "duration": 5555,
    "start_time": "2022-01-08T09:38:18.827Z"
   },
   {
    "duration": 1724,
    "start_time": "2022-01-08T09:38:24.385Z"
   },
   {
    "duration": 1493,
    "start_time": "2022-01-08T09:38:26.116Z"
   },
   {
    "duration": 1022,
    "start_time": "2022-01-08T09:38:27.617Z"
   },
   {
    "duration": 927,
    "start_time": "2022-01-08T09:38:28.641Z"
   },
   {
    "duration": 981,
    "start_time": "2022-01-08T09:38:29.570Z"
   },
   {
    "duration": 542,
    "start_time": "2022-01-08T09:39:36.309Z"
   },
   {
    "duration": 101,
    "start_time": "2022-01-08T09:39:47.082Z"
   },
   {
    "duration": 42,
    "start_time": "2022-01-08T09:39:47.186Z"
   },
   {
    "duration": 24,
    "start_time": "2022-01-08T09:39:47.231Z"
   },
   {
    "duration": 84,
    "start_time": "2022-01-08T09:39:47.258Z"
   },
   {
    "duration": 6153,
    "start_time": "2022-01-08T09:39:47.344Z"
   },
   {
    "duration": 1634,
    "start_time": "2022-01-08T09:39:53.500Z"
   },
   {
    "duration": 748,
    "start_time": "2022-01-08T09:39:55.136Z"
   },
   {
    "duration": 1171,
    "start_time": "2022-01-08T09:39:55.888Z"
   },
   {
    "duration": 957,
    "start_time": "2022-01-08T09:39:57.062Z"
   },
   {
    "duration": 1068,
    "start_time": "2022-01-08T09:39:58.022Z"
   },
   {
    "duration": 44,
    "start_time": "2022-01-08T09:51:15.008Z"
   },
   {
    "duration": 98,
    "start_time": "2022-01-08T09:51:28.871Z"
   },
   {
    "duration": 329,
    "start_time": "2022-01-08T09:51:55.814Z"
   },
   {
    "duration": 34,
    "start_time": "2022-01-08T09:52:07.228Z"
   },
   {
    "duration": 26,
    "start_time": "2022-01-08T09:52:30.652Z"
   },
   {
    "duration": 22,
    "start_time": "2022-01-08T09:52:41.665Z"
   },
   {
    "duration": 52,
    "start_time": "2022-01-08T09:53:10.610Z"
   },
   {
    "duration": 58,
    "start_time": "2022-01-08T09:53:19.466Z"
   },
   {
    "duration": 54,
    "start_time": "2022-01-08T09:53:35.438Z"
   },
   {
    "duration": 58,
    "start_time": "2022-01-08T09:53:54.739Z"
   },
   {
    "duration": 58,
    "start_time": "2022-01-08T09:54:59.385Z"
   }
  ],
  "kernelspec": {
   "display_name": "Python 3",
   "language": "python",
   "name": "python3"
  },
  "language_info": {
   "codemirror_mode": {
    "name": "ipython",
    "version": 3
   },
   "file_extension": ".py",
   "mimetype": "text/x-python",
   "name": "python",
   "nbconvert_exporter": "python",
   "pygments_lexer": "ipython3",
   "version": "3.7.8"
  },
  "toc": {
   "base_numbering": 1,
   "nav_menu": {},
   "number_sections": true,
   "sideBar": true,
   "skip_h1_title": true,
   "title_cell": "Содержание",
   "title_sidebar": "Contents",
   "toc_cell": true,
   "toc_position": {},
   "toc_section_display": true,
   "toc_window_display": true
  }
 },
 "nbformat": 4,
 "nbformat_minor": 2
}
